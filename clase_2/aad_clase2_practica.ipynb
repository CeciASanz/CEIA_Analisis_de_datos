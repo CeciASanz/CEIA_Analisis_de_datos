{
  "cells": [
    {
      "cell_type": "code",
      "execution_count": 6,
      "metadata": {
        "id": "HpgVlvD6JBCf"
      },
      "outputs": [],
      "source": [
        "from scipy import stats\n",
        "import numpy as np\n",
        "import pandas as pd"
      ]
    },
    {
      "cell_type": "code",
      "execution_count": 7,
      "metadata": {
        "id": "Iu8CY9oxJSAa"
      },
      "outputs": [],
      "source": [
        "islander_data = pd.read_csv('https://raw.githubusercontent.com/FIUBA-Posgrado-Inteligencia-Artificial/CEIA_Analisis_de_datos/main/clase_2/datasets/Islander_data.csv')"
      ]
    },
    {
      "cell_type": "code",
      "execution_count": 8,
      "metadata": {
        "colab": {
          "base_uri": "https://localhost:8080/",
          "height": 206
        },
        "id": "lIvtZjI5J0Gu",
        "outputId": "8acc64cb-6ef4-4328-e64f-e771c8e1e875"
      },
      "outputs": [
        {
          "data": {
            "text/html": [
              "<div>\n",
              "<style scoped>\n",
              "    .dataframe tbody tr th:only-of-type {\n",
              "        vertical-align: middle;\n",
              "    }\n",
              "\n",
              "    .dataframe tbody tr th {\n",
              "        vertical-align: top;\n",
              "    }\n",
              "\n",
              "    .dataframe thead th {\n",
              "        text-align: right;\n",
              "    }\n",
              "</style>\n",
              "<table border=\"1\" class=\"dataframe\">\n",
              "  <thead>\n",
              "    <tr style=\"text-align: right;\">\n",
              "      <th></th>\n",
              "      <th>first_name</th>\n",
              "      <th>last_name</th>\n",
              "      <th>age</th>\n",
              "      <th>Happy_Sad_group</th>\n",
              "      <th>Dosage</th>\n",
              "      <th>Drug</th>\n",
              "      <th>Mem_Score_Before</th>\n",
              "      <th>Mem_Score_After</th>\n",
              "      <th>Diff</th>\n",
              "    </tr>\n",
              "  </thead>\n",
              "  <tbody>\n",
              "    <tr>\n",
              "      <th>0</th>\n",
              "      <td>Bastian</td>\n",
              "      <td>Carrasco</td>\n",
              "      <td>25</td>\n",
              "      <td>H</td>\n",
              "      <td>1</td>\n",
              "      <td>A</td>\n",
              "      <td>63.5</td>\n",
              "      <td>61.2</td>\n",
              "      <td>-2.3</td>\n",
              "    </tr>\n",
              "    <tr>\n",
              "      <th>1</th>\n",
              "      <td>Evan</td>\n",
              "      <td>Carrasco</td>\n",
              "      <td>52</td>\n",
              "      <td>S</td>\n",
              "      <td>1</td>\n",
              "      <td>A</td>\n",
              "      <td>41.6</td>\n",
              "      <td>40.7</td>\n",
              "      <td>-0.9</td>\n",
              "    </tr>\n",
              "    <tr>\n",
              "      <th>2</th>\n",
              "      <td>Florencia</td>\n",
              "      <td>Carrasco</td>\n",
              "      <td>29</td>\n",
              "      <td>H</td>\n",
              "      <td>1</td>\n",
              "      <td>A</td>\n",
              "      <td>59.7</td>\n",
              "      <td>55.1</td>\n",
              "      <td>-4.6</td>\n",
              "    </tr>\n",
              "    <tr>\n",
              "      <th>3</th>\n",
              "      <td>Holly</td>\n",
              "      <td>Carrasco</td>\n",
              "      <td>50</td>\n",
              "      <td>S</td>\n",
              "      <td>1</td>\n",
              "      <td>A</td>\n",
              "      <td>51.7</td>\n",
              "      <td>51.2</td>\n",
              "      <td>-0.5</td>\n",
              "    </tr>\n",
              "    <tr>\n",
              "      <th>4</th>\n",
              "      <td>Justin</td>\n",
              "      <td>Carrasco</td>\n",
              "      <td>52</td>\n",
              "      <td>H</td>\n",
              "      <td>1</td>\n",
              "      <td>A</td>\n",
              "      <td>47.0</td>\n",
              "      <td>47.1</td>\n",
              "      <td>0.1</td>\n",
              "    </tr>\n",
              "  </tbody>\n",
              "</table>\n",
              "</div>"
            ],
            "text/plain": [
              "  first_name last_name  age Happy_Sad_group  Dosage Drug  Mem_Score_Before  \\\n",
              "0    Bastian  Carrasco   25               H       1    A              63.5   \n",
              "1       Evan  Carrasco   52               S       1    A              41.6   \n",
              "2  Florencia  Carrasco   29               H       1    A              59.7   \n",
              "3      Holly  Carrasco   50               S       1    A              51.7   \n",
              "4     Justin  Carrasco   52               H       1    A              47.0   \n",
              "\n",
              "   Mem_Score_After  Diff  \n",
              "0             61.2  -2.3  \n",
              "1             40.7  -0.9  \n",
              "2             55.1  -4.6  \n",
              "3             51.2  -0.5  \n",
              "4             47.1   0.1  "
            ]
          },
          "execution_count": 8,
          "metadata": {},
          "output_type": "execute_result"
        }
      ],
      "source": [
        "islander_data.head(5)"
      ]
    },
    {
      "cell_type": "code",
      "execution_count": 9,
      "metadata": {
        "colab": {
          "base_uri": "https://localhost:8080/"
        },
        "id": "jJYfgtOmJ4Vr",
        "outputId": "c837dfe9-358b-4bf5-9bc6-8491a5ec832d"
      },
      "outputs": [
        {
          "name": "stderr",
          "output_type": "stream",
          "text": [
            "C:\\Users\\PABLON~1.PEL\\AppData\\Local\\Temp/ipykernel_33396/650308774.py:1: FutureWarning: Dropping of nuisance columns in DataFrame reductions (with 'numeric_only=None') is deprecated; in a future version this will raise TypeError.  Select only valid columns before calling the reduction.\n",
            "  islander_data.mean()\n"
          ]
        },
        {
          "data": {
            "text/plain": [
              "age                 39.530303\n",
              "Dosage               1.989899\n",
              "Mem_Score_Before    57.967677\n",
              "Mem_Score_After     60.922222\n",
              "Diff                 2.954545\n",
              "dtype: float64"
            ]
          },
          "execution_count": 9,
          "metadata": {},
          "output_type": "execute_result"
        }
      ],
      "source": [
        "islander_data.mean()"
      ]
    },
    {
      "cell_type": "code",
      "execution_count": 10,
      "metadata": {
        "colab": {
          "base_uri": "https://localhost:8080/"
        },
        "id": "KNTPy87DKBB9",
        "outputId": "ccb07cd0-bd18-493f-d60d-6a05e8fd2448"
      },
      "outputs": [
        {
          "name": "stderr",
          "output_type": "stream",
          "text": [
            "C:\\Users\\PABLON~1.PEL\\AppData\\Local\\Temp/ipykernel_33396/324209366.py:1: FutureWarning: Dropping of nuisance columns in DataFrame reductions (with 'numeric_only=None') is deprecated; in a future version this will raise TypeError.  Select only valid columns before calling the reduction.\n",
            "  islander_data.std()\n"
          ]
        },
        {
          "data": {
            "text/plain": [
              "age                 12.023099\n",
              "Dosage               0.818504\n",
              "Mem_Score_Before    15.766007\n",
              "Mem_Score_After     18.133851\n",
              "Diff                10.754603\n",
              "dtype: float64"
            ]
          },
          "execution_count": 10,
          "metadata": {},
          "output_type": "execute_result"
        }
      ],
      "source": [
        "islander_data.std()"
      ]
    },
    {
      "cell_type": "code",
      "execution_count": 11,
      "metadata": {
        "id": "d5TA4nQnKJ0b"
      },
      "outputs": [],
      "source": [
        "cov_mat = islander_data[['Mem_Score_Before', 'Mem_Score_After']].cov()"
      ]
    },
    {
      "cell_type": "code",
      "execution_count": 12,
      "metadata": {
        "colab": {
          "base_uri": "https://localhost:8080/",
          "height": 112
        },
        "id": "25VAlml1Kchx",
        "outputId": "f1765f33-c917-47b7-fed9-976b66d69af6"
      },
      "outputs": [
        {
          "data": {
            "text/html": [
              "<div>\n",
              "<style scoped>\n",
              "    .dataframe tbody tr th:only-of-type {\n",
              "        vertical-align: middle;\n",
              "    }\n",
              "\n",
              "    .dataframe tbody tr th {\n",
              "        vertical-align: top;\n",
              "    }\n",
              "\n",
              "    .dataframe thead th {\n",
              "        text-align: right;\n",
              "    }\n",
              "</style>\n",
              "<table border=\"1\" class=\"dataframe\">\n",
              "  <thead>\n",
              "    <tr style=\"text-align: right;\">\n",
              "      <th></th>\n",
              "      <th>Mem_Score_Before</th>\n",
              "      <th>Mem_Score_After</th>\n",
              "    </tr>\n",
              "  </thead>\n",
              "  <tbody>\n",
              "    <tr>\n",
              "      <th>Mem_Score_Before</th>\n",
              "      <td>1.000000</td>\n",
              "      <td>0.807528</td>\n",
              "    </tr>\n",
              "    <tr>\n",
              "      <th>Mem_Score_After</th>\n",
              "      <td>0.807528</td>\n",
              "      <td>1.000000</td>\n",
              "    </tr>\n",
              "  </tbody>\n",
              "</table>\n",
              "</div>"
            ],
            "text/plain": [
              "                  Mem_Score_Before  Mem_Score_After\n",
              "Mem_Score_Before          1.000000         0.807528\n",
              "Mem_Score_After           0.807528         1.000000"
            ]
          },
          "execution_count": 12,
          "metadata": {},
          "output_type": "execute_result"
        }
      ],
      "source": [
        "islander_data[['Mem_Score_Before', 'Mem_Score_After']].corr()"
      ]
    },
    {
      "cell_type": "code",
      "execution_count": 13,
      "metadata": {
        "colab": {
          "base_uri": "https://localhost:8080/"
        },
        "id": "SNl1UdkmLT5S",
        "outputId": "7018368c-1457-4848-c259-c8fa8eac46dc"
      },
      "outputs": [
        {
          "name": "stderr",
          "output_type": "stream",
          "text": [
            "C:\\Users\\PABLON~1.PEL\\AppData\\Local\\Temp/ipykernel_33396/3894949687.py:1: FutureWarning: Dropping of nuisance columns in DataFrame reductions (with 'numeric_only=None') is deprecated; in a future version this will raise TypeError.  Select only valid columns before calling the reduction.\n",
            "  islander_data.median()\n"
          ]
        },
        {
          "data": {
            "text/plain": [
              "age                 37.00\n",
              "Dosage               2.00\n",
              "Mem_Score_Before    54.80\n",
              "Mem_Score_After     56.75\n",
              "Diff                 1.70\n",
              "dtype: float64"
            ]
          },
          "execution_count": 13,
          "metadata": {},
          "output_type": "execute_result"
        }
      ],
      "source": [
        "islander_data.median()"
      ]
    },
    {
      "cell_type": "code",
      "execution_count": 14,
      "metadata": {
        "colab": {
          "base_uri": "https://localhost:8080/",
          "height": 300
        },
        "id": "5GhHQudYL4nv",
        "outputId": "a16b44d4-9061-4960-d36a-2e20cb004300"
      },
      "outputs": [
        {
          "data": {
            "text/html": [
              "<div>\n",
              "<style scoped>\n",
              "    .dataframe tbody tr th:only-of-type {\n",
              "        vertical-align: middle;\n",
              "    }\n",
              "\n",
              "    .dataframe tbody tr th {\n",
              "        vertical-align: top;\n",
              "    }\n",
              "\n",
              "    .dataframe thead th {\n",
              "        text-align: right;\n",
              "    }\n",
              "</style>\n",
              "<table border=\"1\" class=\"dataframe\">\n",
              "  <thead>\n",
              "    <tr style=\"text-align: right;\">\n",
              "      <th></th>\n",
              "      <th>age</th>\n",
              "      <th>Dosage</th>\n",
              "      <th>Mem_Score_Before</th>\n",
              "      <th>Mem_Score_After</th>\n",
              "      <th>Diff</th>\n",
              "    </tr>\n",
              "  </thead>\n",
              "  <tbody>\n",
              "    <tr>\n",
              "      <th>count</th>\n",
              "      <td>198.000000</td>\n",
              "      <td>198.000000</td>\n",
              "      <td>198.000000</td>\n",
              "      <td>198.000000</td>\n",
              "      <td>198.000000</td>\n",
              "    </tr>\n",
              "    <tr>\n",
              "      <th>mean</th>\n",
              "      <td>39.530303</td>\n",
              "      <td>1.989899</td>\n",
              "      <td>57.967677</td>\n",
              "      <td>60.922222</td>\n",
              "      <td>2.954545</td>\n",
              "    </tr>\n",
              "    <tr>\n",
              "      <th>std</th>\n",
              "      <td>12.023099</td>\n",
              "      <td>0.818504</td>\n",
              "      <td>15.766007</td>\n",
              "      <td>18.133851</td>\n",
              "      <td>10.754603</td>\n",
              "    </tr>\n",
              "    <tr>\n",
              "      <th>min</th>\n",
              "      <td>24.000000</td>\n",
              "      <td>1.000000</td>\n",
              "      <td>27.200000</td>\n",
              "      <td>27.100000</td>\n",
              "      <td>-40.400000</td>\n",
              "    </tr>\n",
              "    <tr>\n",
              "      <th>25%</th>\n",
              "      <td>30.000000</td>\n",
              "      <td>1.000000</td>\n",
              "      <td>46.525000</td>\n",
              "      <td>47.175000</td>\n",
              "      <td>-3.175000</td>\n",
              "    </tr>\n",
              "    <tr>\n",
              "      <th>50%</th>\n",
              "      <td>37.000000</td>\n",
              "      <td>2.000000</td>\n",
              "      <td>54.800000</td>\n",
              "      <td>56.750000</td>\n",
              "      <td>1.700000</td>\n",
              "    </tr>\n",
              "    <tr>\n",
              "      <th>75%</th>\n",
              "      <td>48.000000</td>\n",
              "      <td>3.000000</td>\n",
              "      <td>68.400000</td>\n",
              "      <td>73.250000</td>\n",
              "      <td>5.925000</td>\n",
              "    </tr>\n",
              "    <tr>\n",
              "      <th>max</th>\n",
              "      <td>83.000000</td>\n",
              "      <td>3.000000</td>\n",
              "      <td>110.000000</td>\n",
              "      <td>120.000000</td>\n",
              "      <td>49.000000</td>\n",
              "    </tr>\n",
              "  </tbody>\n",
              "</table>\n",
              "</div>"
            ],
            "text/plain": [
              "              age      Dosage  Mem_Score_Before  Mem_Score_After        Diff\n",
              "count  198.000000  198.000000        198.000000       198.000000  198.000000\n",
              "mean    39.530303    1.989899         57.967677        60.922222    2.954545\n",
              "std     12.023099    0.818504         15.766007        18.133851   10.754603\n",
              "min     24.000000    1.000000         27.200000        27.100000  -40.400000\n",
              "25%     30.000000    1.000000         46.525000        47.175000   -3.175000\n",
              "50%     37.000000    2.000000         54.800000        56.750000    1.700000\n",
              "75%     48.000000    3.000000         68.400000        73.250000    5.925000\n",
              "max     83.000000    3.000000        110.000000       120.000000   49.000000"
            ]
          },
          "execution_count": 14,
          "metadata": {},
          "output_type": "execute_result"
        }
      ],
      "source": [
        "islander_data.describe()"
      ]
    },
    {
      "cell_type": "code",
      "execution_count": 15,
      "metadata": {
        "colab": {
          "base_uri": "https://localhost:8080/",
          "height": 112
        },
        "id": "EL4gEKTmMUX3",
        "outputId": "bd173c0d-33dc-4cff-f8ae-34c3428ff8c4"
      },
      "outputs": [
        {
          "data": {
            "text/html": [
              "<div>\n",
              "<style scoped>\n",
              "    .dataframe tbody tr th:only-of-type {\n",
              "        vertical-align: middle;\n",
              "    }\n",
              "\n",
              "    .dataframe tbody tr th {\n",
              "        vertical-align: top;\n",
              "    }\n",
              "\n",
              "    .dataframe thead th {\n",
              "        text-align: right;\n",
              "    }\n",
              "</style>\n",
              "<table border=\"1\" class=\"dataframe\">\n",
              "  <thead>\n",
              "    <tr style=\"text-align: right;\">\n",
              "      <th></th>\n",
              "      <th>first_name</th>\n",
              "      <th>last_name</th>\n",
              "      <th>age</th>\n",
              "      <th>Happy_Sad_group</th>\n",
              "      <th>Dosage</th>\n",
              "      <th>Drug</th>\n",
              "      <th>Mem_Score_Before</th>\n",
              "      <th>Mem_Score_After</th>\n",
              "      <th>Diff</th>\n",
              "    </tr>\n",
              "  </thead>\n",
              "  <tbody>\n",
              "    <tr>\n",
              "      <th>0</th>\n",
              "      <td>Jun</td>\n",
              "      <td>Durand</td>\n",
              "      <td>37.0</td>\n",
              "      <td>H</td>\n",
              "      <td>1.0</td>\n",
              "      <td>A</td>\n",
              "      <td>90.0</td>\n",
              "      <td>90.0</td>\n",
              "      <td>-1.3</td>\n",
              "    </tr>\n",
              "    <tr>\n",
              "      <th>1</th>\n",
              "      <td>NaN</td>\n",
              "      <td>NaN</td>\n",
              "      <td>NaN</td>\n",
              "      <td>S</td>\n",
              "      <td>NaN</td>\n",
              "      <td>NaN</td>\n",
              "      <td>NaN</td>\n",
              "      <td>96.0</td>\n",
              "      <td>0.0</td>\n",
              "    </tr>\n",
              "  </tbody>\n",
              "</table>\n",
              "</div>"
            ],
            "text/plain": [
              "  first_name last_name   age Happy_Sad_group  Dosage Drug  Mem_Score_Before  \\\n",
              "0        Jun    Durand  37.0               H     1.0    A              90.0   \n",
              "1        NaN       NaN   NaN               S     NaN  NaN               NaN   \n",
              "\n",
              "   Mem_Score_After  Diff  \n",
              "0             90.0  -1.3  \n",
              "1             96.0   0.0  "
            ]
          },
          "execution_count": 15,
          "metadata": {},
          "output_type": "execute_result"
        }
      ],
      "source": [
        "islander_data.mode()"
      ]
    },
    {
      "cell_type": "code",
      "execution_count": 16,
      "metadata": {
        "colab": {
          "base_uri": "https://localhost:8080/"
        },
        "id": "SbOHvIxhQlYB",
        "outputId": "022a63b2-3810-463d-d43c-9154211176cb"
      },
      "outputs": [
        {
          "name": "stderr",
          "output_type": "stream",
          "text": [
            "C:\\Users\\PABLON~1.PEL\\AppData\\Local\\Temp/ipykernel_33396/4146418078.py:1: FutureWarning: Dropping of nuisance columns in DataFrame reductions (with 'numeric_only=None') is deprecated; in a future version this will raise TypeError.  Select only valid columns before calling the reduction.\n",
            "  islander_data.skew()\n"
          ]
        },
        {
          "data": {
            "text/plain": [
              "age                 1.069270\n",
              "Dosage              0.018699\n",
              "Mem_Score_Before    0.646570\n",
              "Mem_Score_After     0.756992\n",
              "Diff                0.766206\n",
              "dtype: float64"
            ]
          },
          "execution_count": 16,
          "metadata": {},
          "output_type": "execute_result"
        }
      ],
      "source": [
        "islander_data.skew()"
      ]
    },
    {
      "cell_type": "code",
      "execution_count": 17,
      "metadata": {
        "colab": {
          "base_uri": "https://localhost:8080/"
        },
        "id": "PNgJNzy3Qtcq",
        "outputId": "43e7f8eb-6119-4689-8d50-93deaa159e9f"
      },
      "outputs": [
        {
          "data": {
            "text/plain": [
              "age                 0.888832\n",
              "Dosage             -1.507182\n",
              "Mem_Score_Before   -0.026350\n",
              "Mem_Score_After     0.180319\n",
              "Diff                3.379966\n",
              "dtype: float64"
            ]
          },
          "execution_count": 17,
          "metadata": {},
          "output_type": "execute_result"
        }
      ],
      "source": [
        "islander_data.kurt(numeric_only=True)"
      ]
    },
    {
      "cell_type": "code",
      "execution_count": 18,
      "metadata": {
        "id": "_O5q0ImSRqA4"
      },
      "outputs": [],
      "source": [
        "import seaborn as sns"
      ]
    },
    {
      "cell_type": "code",
      "execution_count": 19,
      "metadata": {
        "colab": {
          "base_uri": "https://localhost:8080/",
          "height": 351
        },
        "id": "LIrqlJBwVAp0",
        "outputId": "69e66d11-49c8-415c-e034-dde3d6836754"
      },
      "outputs": [
        {
          "name": "stderr",
          "output_type": "stream",
          "text": [
            "C:\\Users\\pablo.nahuel.pelli\\AppData\\Roaming\\Python\\Python39\\site-packages\\seaborn\\_decorators.py:36: FutureWarning: Pass the following variable as a keyword arg: x. From version 0.12, the only valid positional argument will be `data`, and passing other arguments without an explicit keyword will result in an error or misinterpretation.\n",
            "  warnings.warn(\n"
          ]
        },
        {
          "data": {
            "text/plain": [
              "<AxesSubplot:xlabel='Diff'>"
            ]
          },
          "execution_count": 19,
          "metadata": {},
          "output_type": "execute_result"
        },
        {
          "data": {
            "image/png": "[encoded data removed]",
            "text/plain": [
              "<Figure size 432x288 with 1 Axes>"
            ]
          },
          "metadata": {
            "needs_background": "light"
          },
          "output_type": "display_data"
        }
      ],
      "source": [
        "sns.boxplot(islander_data.Diff)"
      ]
    },
    {
      "cell_type": "code",
      "execution_count": 20,
      "metadata": {
        "colab": {
          "base_uri": "https://localhost:8080/",
          "height": 352
        },
        "id": "DCZ_Q2BeVKep",
        "outputId": "4624c46d-4fa1-4430-e07f-72250772859d"
      },
      "outputs": [
        {
          "name": "stderr",
          "output_type": "stream",
          "text": [
            "C:\\Users\\pablo.nahuel.pelli\\AppData\\Roaming\\Python\\Python39\\site-packages\\seaborn\\_decorators.py:36: FutureWarning: Pass the following variable as a keyword arg: x. From version 0.12, the only valid positional argument will be `data`, and passing other arguments without an explicit keyword will result in an error or misinterpretation.\n",
            "  warnings.warn(\n"
          ]
        },
        {
          "data": {
            "text/plain": [
              "<AxesSubplot:xlabel='Mem_Score_Before'>"
            ]
          },
          "execution_count": 20,
          "metadata": {},
          "output_type": "execute_result"
        },
        {
          "data": {
            "image/png": "[encoded data removed]",
            "text/plain": [
              "<Figure size 432x288 with 1 Axes>"
            ]
          },
          "metadata": {
            "needs_background": "light"
          },
          "output_type": "display_data"
        }
      ],
      "source": [
        "sns.boxplot(islander_data.Mem_Score_Before)"
      ]
    },
    {
      "cell_type": "code",
      "execution_count": 21,
      "metadata": {
        "colab": {
          "base_uri": "https://localhost:8080/",
          "height": 352
        },
        "id": "Zcfojah7VZAP",
        "outputId": "a8255c0e-44ca-4db7-9af2-a2e8b3d7c6ba"
      },
      "outputs": [
        {
          "name": "stderr",
          "output_type": "stream",
          "text": [
            "C:\\Users\\pablo.nahuel.pelli\\AppData\\Roaming\\Python\\Python39\\site-packages\\seaborn\\_decorators.py:36: FutureWarning: Pass the following variable as a keyword arg: x. From version 0.12, the only valid positional argument will be `data`, and passing other arguments without an explicit keyword will result in an error or misinterpretation.\n",
            "  warnings.warn(\n"
          ]
        },
        {
          "data": {
            "text/plain": [
              "<AxesSubplot:xlabel='Mem_Score_After'>"
            ]
          },
          "execution_count": 21,
          "metadata": {},
          "output_type": "execute_result"
        },
        {
          "data": {
            "image/png": "[encoded data removed]",
            "text/plain": [
              "<Figure size 432x288 with 1 Axes>"
            ]
          },
          "metadata": {
            "needs_background": "light"
          },
          "output_type": "display_data"
        }
      ],
      "source": [
        "sns.boxplot(islander_data.Mem_Score_After)"
      ]
    },
    {
      "cell_type": "code",
      "execution_count": 22,
      "metadata": {
        "colab": {
          "base_uri": "https://localhost:8080/",
          "height": 297
        },
        "id": "4JK6jK-0Vhrn",
        "outputId": "11e48a0a-519b-4832-bcaa-4fe3ccbb6617"
      },
      "outputs": [
        {
          "data": {
            "text/plain": [
              "<AxesSubplot:xlabel='Drug', ylabel='Diff'>"
            ]
          },
          "execution_count": 22,
          "metadata": {},
          "output_type": "execute_result"
        },
        {
          "data": {
            "image/png": "[encoded data removed]",
            "text/plain": [
              "<Figure size 432x288 with 1 Axes>"
            ]
          },
          "metadata": {
            "needs_background": "light"
          },
          "output_type": "display_data"
        }
      ],
      "source": [
        "sns.boxplot(x=islander_data['Drug'], y=islander_data['Diff'])"
      ]
    },
    {
      "cell_type": "code",
      "execution_count": 23,
      "metadata": {
        "id": "FMj8KNaxWGDW"
      },
      "outputs": [
        {
          "data": {
            "image/png": "[encoded data removed]",
            "text/plain": [
              "<Figure size 432x288 with 1 Axes>"
            ]
          },
          "metadata": {
            "needs_background": "light"
          },
          "output_type": "display_data"
        }
      ],
      "source": [
        "import numpy as np\n",
        "import matplotlib.pyplot as plt\n",
        "\n",
        "X = np.random.normal(5,5,250)\n",
        "Y = np.random.rayleigh(5,250)\n",
        "\n",
        "percs = np.linspace(0,100,21)\n",
        "qn_a = np.percentile(X, percs)\n",
        "qn_b = np.percentile(Y, percs)\n",
        "\n",
        "plt.plot(qn_a,qn_b, ls=\"\", marker=\"o\")\n",
        "\n",
        "x = np.linspace(np.min((qn_a.min(),qn_b.min())), np.max((qn_a.max(),qn_b.max())))\n",
        "plt.plot(x,x, color=\"k\", ls=\"--\")\n",
        "\n",
        "plt.show()"
      ]
    },
    {
      "cell_type": "code",
      "execution_count": 25,
      "metadata": {},
      "outputs": [
        {
          "data": {
            "image/png": "[encoded data removed]",
            "text/plain": [
              "<Figure size 432x288 with 1 Axes>"
            ]
          },
          "metadata": {
            "needs_background": "light"
          },
          "output_type": "display_data"
        }
      ],
      "source": [
        "\n",
        "X = np.random.normal(0,1,len(islander_data))\n",
        "Y = (islander_data.Mem_Score_After - islander_data.Mem_Score_After.mean()) / islander_data.Mem_Score_After.std()\n",
        "\n",
        "percs = np.linspace(0,100,21)\n",
        "qn_a = np.percentile(X, percs)\n",
        "qn_b = np.percentile(Y, percs)\n",
        "\n",
        "plt.plot(qn_a,qn_b, ls=\"\", marker=\"o\")\n",
        "\n",
        "x = np.linspace(np.min((qn_a.min(),qn_b.min())), np.max((qn_a.max(),qn_b.max())))\n",
        "plt.plot(x,x, color=\"k\", ls=\"--\")\n",
        "\n",
        "plt.show()"
      ]
    }
  ],
  "metadata": {
    "colab": {
      "name": "Análisis de datos - clase 2.ipynb",
      "provenance": []
    },
    "kernelspec": {
      "display_name": "Python 3.9.6 64-bit",
      "language": "python",
      "name": "python3"
    },
    "language_info": {
      "codemirror_mode": {
        "name": "ipython",
        "version": 3
      },
      "file_extension": ".py",
      "mimetype": "text/x-python",
      "name": "python",
      "nbconvert_exporter": "python",
      "pygments_lexer": "ipython3",
      "version": "3.9.6"
    },
    "vscode": {
      "interpreter": {
        "hash": "11938c6bc6919ae2720b4d5011047913343b08a43b18698fd82dedb0d4417594"
      }
    }
  },
  "nbformat": 4,
  "nbformat_minor": 0
}
